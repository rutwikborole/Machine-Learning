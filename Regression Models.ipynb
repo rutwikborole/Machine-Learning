{
 "cells": [
  {
   "cell_type": "code",
   "execution_count": 2,
   "id": "a5b204be-ef2c-4136-8502-bc781e9f912c",
   "metadata": {},
   "outputs": [],
   "source": [
    "import pandas as pd\n",
    "import numpy as np\n",
    "from sklearn import metrics\n",
    "from sklearn.preprocessing import OneHotEncoder\n",
    "from datetime import datetime as dt\n",
    "from sklearn import preprocessing\n",
    "from sklearn.preprocessing import StandardScaler\n",
    "import matplotlib.pyplot as plt\n",
    "from sklearn.model_selection import train_test_split\n",
    "from sklearn.preprocessing import MinMaxScaler\n",
    "from sklearn.preprocessing import StandardScaler\n",
    "from sklearn.linear_model import LinearRegression\n",
    "from sklearn.ensemble import RandomForestRegressor\n",
    "from sklearn.metrics import r2_score\n",
    "from sklearn.metrics import mean_squared_error\n",
    "from sklearn.metrics import mean_absolute_error\n",
    "\n",
    "train_df = pd.read_csv('train.csv')\n",
    "test_df = pd.read_csv('test.csv')\n",
    "\n",
    "#seperatting datetime into date and tiime\n",
    "\n",
    "train_df['Hour'] = pd.to_datetime(train_df['datetime']).dt.hour\n",
    "train_df['Day'] =  pd.to_datetime(train_df['datetime']).dt.day\n",
    "train_df['Month'] =  pd.to_datetime(train_df['datetime']).dt.month\n",
    "train_df['Year'] =  pd.to_datetime(train_df['datetime']).dt.year\n",
    "\n",
    "test_df['Hour'] = pd.to_datetime(test_df['datetime']).dt.hour\n",
    "test_df['Day'] =  pd.to_datetime(test_df['datetime']).dt.day\n",
    "test_df['Month'] =  pd.to_datetime(test_df['datetime']).dt.month\n",
    "test_df['Year'] =  pd.to_datetime(test_df['datetime']).dt.year\n",
    "\n",
    "#  one hot encoding\n",
    "encoder = OneHotEncoder(handle_unknown = \"ignore\")\n",
    "\n",
    "encoder_df = pd.DataFrame(encoder.fit_transform(train_df[['var2']]).toarray())\n",
    "train_df = train_df.join(encoder_df)\n",
    "train_df.rename(columns = {0:'var2_A'}, inplace = True)\n",
    "train_df.rename(columns = {1:'var2_B'}, inplace = True)\n",
    "train_df.rename(columns = {2:'var2_C'}, inplace = True)\n",
    "train_df = train_df.drop(columns = ['var2'])\n",
    "\n",
    "encoder_tdf = pd.DataFrame(encoder.fit_transform(test_df[['var2']]).toarray())\n",
    "test_df = test_df.join(encoder_df)\n",
    "test_df.rename(columns = {0:'var2_A'}, inplace = True)\n",
    "test_df.rename(columns = {1:'var2_B'}, inplace = True)\n",
    "test_df.rename(columns = {2:'var2_C'}, inplace = True)\n",
    "test_df = test_df.drop(columns = ['var2'])\n",
    "\n",
    "#Dropping columns\n",
    "X_train = train_df.drop(columns=['electricity_consumption','datetime','ID'])\n",
    "test_df = test_df.drop(columns=['datetime','ID'])\n",
    "Y_train = train_df['electricity_consumption'].values\n",
    "\n",
    "#Splitting Train data into training and validation set\n",
    "#method 1\n",
    "x_train, x_test, y_train, y_test = train_test_split(X_train, Y_train, test_size = 0.3, random_state = 11, shuffle = False)\n",
    "\n",
    "#method 2\n",
    "train_final = []\n",
    "for x in range(1,17):\n",
    "  train_final.append(train_df.where(train_df['Day']==x).dropna())\n",
    "train_final = pd.concat(train_final, ignore_index=True)\n",
    "\n",
    "validation = []\n",
    "for x in range(17,24):\n",
    "  validation.append(train_df.where(train_df['Day']==x).dropna())\n",
    "validation = pd.concat(validation,ignore_index=True)\n",
    "train_y = train_final['electricity_consumption']\n",
    "valid_y = validation['electricity_consumption']\n",
    "\n",
    "train_final = train_final.drop(columns=['electricity_consumption','datetime','ID'])\n",
    "validation = validation.drop(columns=['electricity_consumption','datetime','ID'])\n",
    "\n",
    "#Normalising the values for both models\n",
    "minmax = MinMaxScaler()\n",
    "minmax.fit(X_train)\n",
    "x_train_rfr = minmax.transform(x_train)\n",
    "x_test_rfr = minmax.transform(x_test)\n",
    "\n",
    "scaler = StandardScaler()\n",
    "scaler.fit(X_train)\n",
    "x_train_ss = scaler.transform(x_train)\n",
    "x_test_ss = scaler.transform(x_test)"
   ]
  },
  {
   "cell_type": "code",
   "execution_count": 21,
   "id": "5bc3309a-8d9a-4cb8-9576-a31e5ad959b0",
   "metadata": {},
   "outputs": [
    {
     "name": "stdout",
     "output_type": "stream",
     "text": [
      "r2 score for Linear Regression model is = 0.22924678886260808\n",
      "mean_sqrd_error of Linear Regression model is = 10976.28992055669\n",
      "root_mean_squared error of Linear Regression model is = 104.7677904728199\n",
      "Absolute error of Linear Regression model is = 74.81480634039269\n",
      " \n"
     ]
    }
   ],
   "source": [
    "# creating an object of LinearRegression class\n",
    "LR = LinearRegression(fit_intercept=True)\n",
    "# fitting the training data\n",
    "LR.fit(train_final,train_y)\n",
    "\n",
    "y_prediction =  LR.predict(validation)\n",
    "y_prediction\n",
    "\n",
    "# predicting the accuracy score\n",
    "score=r2_score(valid_y,y_prediction)\n",
    "print('r2 score for Linear Regression model is =',score)\n",
    "print('mean_sqrd_error of Linear Regression model is =',mean_squared_error(valid_y,y_prediction))\n",
    "print('root_mean_squared error of Linear Regression model is =',np.sqrt(mean_squared_error(valid_y,y_prediction)))\n",
    "print('Absolute error of Linear Regression model is =',mean_absolute_error(valid_y,y_prediction))\n",
    "print(' ')"
   ]
  },
  {
   "cell_type": "code",
   "execution_count": 22,
   "id": "42de356c-b668-4023-a311-b2bf87db3e7b",
   "metadata": {},
   "outputs": [
    {
     "name": "stdout",
     "output_type": "stream",
     "text": [
      "r2 score for Linear Regression model is = 0.19144196167839844\n",
      "mean_sqrd_error of Linear Regression model is = 9994.821692900772\n",
      "root_mean_squared error of Linear Regression model is = 99.97410511177767\n",
      "Absolute error of Linear Regression model is = 69.30328307672265\n",
      " \n"
     ]
    }
   ],
   "source": [
    "# creating an object of LinearRegression class\n",
    "LR = LinearRegression(fit_intercept=True)\n",
    "# fitting the training data\n",
    "LR.fit(x_train_ss,y_train)\n",
    "\n",
    "y_prediction =  LR.predict(x_test_ss)\n",
    "y_prediction\n",
    "\n",
    "# predicting the accuracy score\n",
    "score=r2_score(y_test,y_prediction)\n",
    "print('r2 score for Linear Regression model is =',score)\n",
    "print('mean_sqrd_error of Linear Regression model is =',mean_squared_error(y_test,y_prediction))\n",
    "print('root_mean_squared error of Linear Regression model is =',np.sqrt(mean_squared_error(y_test,y_prediction)))\n",
    "print('Absolute error of Linear Regression model is =',mean_absolute_error(y_test,y_prediction))\n",
    "print(' ')"
   ]
  },
  {
   "cell_type": "code",
   "execution_count": 3,
   "id": "a1d323f7-b535-4cd2-9104-cffac03e8388",
   "metadata": {},
   "outputs": [
    {
     "name": "stdout",
     "output_type": "stream",
     "text": [
      "r2 score of Random Forest Regressor is  0.42159264195858803\n",
      "mean_sqrd_error of Random Forest Regressor is = 7149.862020401213\n",
      "root_mean_squared error of Random Forest Regressor is = 84.55685673203098\n",
      "Absolute error of Random Forest Regressor is = 57.88974485451631\n"
     ]
    }
   ],
   "source": [
    "#random forest\n",
    "model = RandomForestRegressor(n_estimators=1000, random_state=1,min_samples_leaf=50)\n",
    "model.fit(x_train_rfr, y_train)\n",
    "# make predictions\n",
    "y_preds = model.predict(x_test_rfr)\n",
    "\n",
    "# evaluate predictions\n",
    "#score=model.score(y_test,yhat)\n",
    "print('r2 score of Random Forest Regressor is ',r2_score(y_test,y_preds))\n",
    "print('mean_sqrd_error of Random Forest Regressor is =',mean_squared_error(y_test,y_preds))\n",
    "print('root_mean_squared error of Random Forest Regressor is =',np.sqrt(mean_squared_error(y_test,y_preds)))\n",
    "print('Absolute error of Random Forest Regressor is =',mean_absolute_error(y_test,y_preds))"
   ]
  },
  {
   "cell_type": "code",
   "execution_count": 207,
   "id": "fcac2fef-e7b4-4318-9ce7-269930fb0e65",
   "metadata": {},
   "outputs": [
    {
     "name": "stdout",
     "output_type": "stream",
     "text": [
      "r2 score of Random Forest Regressor is  0.3233233974327353\n",
      "mean_sqrd_error of Random Forest Regressor is = 9636.545738518667\n",
      "root_mean_squared error of Random Forest Regressor is = 98.16590924816347\n",
      "Absolute error of Random Forest Regressor is = 66.67174528289873\n"
     ]
    }
   ],
   "source": [
    "#random forest\n",
    "model = RandomForestRegressor(n_estimators=1000, random_state=1,min_samples_leaf=50)\n",
    "model.fit(train_final,train_y)\n",
    "# make predictions\n",
    "y_preds = model.predict(validation)\n",
    "\n",
    "# evaluate predictions\n",
    "#score=model.score(y_test,yhat)\n",
    "print('r2 score of Random Forest Regressor is ',r2_score(valid_y,y_preds))\n",
    "print('mean_sqrd_error of Random Forest Regressor is =',mean_squared_error(valid_y,y_preds))\n",
    "print('root_mean_squared error of Random Forest Regressor is =',np.sqrt(mean_squared_error(valid_y,y_preds)))\n",
    "print('Absolute error of Random Forest Regressor is =',mean_absolute_error(valid_y,y_preds))"
   ]
  },
  {
   "cell_type": "code",
   "execution_count": 24,
   "id": "94b0ea53-8ccf-4f19-bb8e-5f1bae58dee6",
   "metadata": {},
   "outputs": [
    {
     "data": {
      "image/png": "[encoded data removed]",
      "text/plain": [
       "<Figure size 640x480 with 1 Axes>"
      ]
     },
     "metadata": {},
     "output_type": "display_data"
    }
   ],
   "source": [
    "from matplotlib import pyplot\n",
    "\n",
    "pyplot.plot(y_train)\n",
    "pyplot.plot([None for i in y_train] + [x for x in y_test])\n",
    "pyplot.plot([None for i in y_train] + [x for x in y_preds])\n",
    "pyplot.show()"
   ]
  },
  {
   "cell_type": "code",
   "execution_count": 16,
   "id": "3f2dafd9-4b03-4ef6-b833-9c7258cb39ab",
   "metadata": {},
   "outputs": [],
   "source": [
    "#Submitting the predictions to a csfv file on the test data.\n",
    "minmax.fit(test_df)\n",
    "X_test = minmax.transform(test_df)\n",
    "\n",
    "y_preds = model.predict(X_test)\n",
    "\n",
    "sub = {\"ID\": [f\"{i}\" for i in range(len(test_df))],\n",
    "       \"Predictions\": y_preds}\n",
    "sub_df = pd.DataFrame(sub)\n",
    "sub_df.to_csv(f\"{22224253}.csv\", sep=\",\", header=1, index=None)"
   ]
  }
 ],
 "metadata": {
  "kernelspec": {
   "display_name": "Python 3 (ipykernel)",
   "language": "python",
   "name": "python3"
  },
  "language_info": {
   "codemirror_mode": {
    "name": "ipython",
    "version": 3
   },
   "file_extension": ".py",
   "mimetype": "text/x-python",
   "name": "python",
   "nbconvert_exporter": "python",
   "pygments_lexer": "ipython3",
   "version": "3.10.9"
  }
 },
 "nbformat": 4,
 "nbformat_minor": 5
}
